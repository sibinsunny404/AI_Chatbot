{
 "cells": [
  {
   "cell_type": "code",
   "execution_count": 30,
   "id": "c9d857bd",
   "metadata": {},
   "outputs": [
    {
     "name": "stdout",
     "output_type": "stream",
     "text": [
      "[]\n"
     ]
    }
   ],
   "source": [
    "id2line = {'49': 'Did you change your hair?', '50': 'No.'}\n",
    "convid = ['49', '50']\n",
    "q = []\n",
    "a = []\n",
    "for conv in convid:\n",
    "    conv = conv.split()  # Convert to list of integers\n",
    "    for i in range(len(conv)-1):\n",
    "        q.append(id2line[conv[i]])\n",
    "print(q)\n"
   ]
  },
  {
   "cell_type": "code",
   "execution_count": 6,
   "id": "f4e7c656",
   "metadata": {},
   "outputs": [
    {
     "name": "stdout",
     "output_type": "stream",
     "text": [
      "0\n"
     ]
    }
   ],
   "source": [
    "    "
   ]
  },
  {
   "cell_type": "code",
   "execution_count": null,
   "id": "33f11f39",
   "metadata": {},
   "outputs": [],
   "source": []
  }
 ],
 "metadata": {
  "kernelspec": {
   "display_name": "Python 3 (ipykernel)",
   "language": "python",
   "name": "python3"
  },
  "language_info": {
   "codemirror_mode": {
    "name": "ipython",
    "version": 3
   },
   "file_extension": ".py",
   "mimetype": "text/x-python",
   "name": "python",
   "nbconvert_exporter": "python",
   "pygments_lexer": "ipython3",
   "version": "3.9.13"
  }
 },
 "nbformat": 4,
 "nbformat_minor": 5
}
